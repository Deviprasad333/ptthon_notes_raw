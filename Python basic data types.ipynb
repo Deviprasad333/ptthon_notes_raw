{
 "cells": [
  {
   "cell_type": "raw",
   "id": "10b2ecf8-f2b1-4446-8c36-ea0c4dc0e12a",
   "metadata": {},
   "source": [
    "DATA TYPES:"
   ]
  },
  {
   "cell_type": "raw",
   "id": "92b83d82-18c6-4da5-8794-974c4bae76b0",
   "metadata": {},
   "source": [
    "1)List: holds heterogeneous data types:"
   ]
  },
  {
   "cell_type": "code",
   "execution_count": 2,
   "id": "60797d34-7aeb-4ab2-8670-6fb807053d55",
   "metadata": {},
   "outputs": [],
   "source": [
    "l=[]"
   ]
  },
  {
   "cell_type": "code",
   "execution_count": 3,
   "id": "e29e425a-bfa7-4464-927d-69a588fd7d5f",
   "metadata": {},
   "outputs": [
    {
     "data": {
      "text/plain": [
       "list"
      ]
     },
     "execution_count": 3,
     "metadata": {},
     "output_type": "execute_result"
    }
   ],
   "source": [
    "type(l)"
   ]
  },
  {
   "cell_type": "code",
   "execution_count": 4,
   "id": "565d6c90-a8bf-4608-b57f-d149ddac481d",
   "metadata": {},
   "outputs": [],
   "source": [
    "l1=[1,2,3,4,5,\"dev\",\"prasad\",3+6j,30.45,True]"
   ]
  },
  {
   "cell_type": "code",
   "execution_count": 6,
   "id": "e20735cb-e1c1-4cc3-8ab0-86c9544c2c1c",
   "metadata": {},
   "outputs": [
    {
     "data": {
      "text/plain": [
       "[1, 2, 3, 4, 5, 'dev', 'prasad', (3+6j), 30.45, True]"
      ]
     },
     "execution_count": 6,
     "metadata": {},
     "output_type": "execute_result"
    }
   ],
   "source": [
    "l1"
   ]
  },
  {
   "cell_type": "raw",
   "id": "844af857-624b-4fdd-9306-e61a33ff19c3",
   "metadata": {},
   "source": [
    "We can also keep list inside the list:"
   ]
  },
  {
   "cell_type": "code",
   "execution_count": 7,
   "id": "47306685-389c-4581-920f-65ead1afc7d5",
   "metadata": {},
   "outputs": [],
   "source": [
    "l1=[1,2,3,4,\"devi\",\"prasad\",30.45,6+5j,True,[5,6,7,8]]"
   ]
  },
  {
   "cell_type": "code",
   "execution_count": 8,
   "id": "cca82c2b-01ed-4249-b165-acfb07f7e189",
   "metadata": {},
   "outputs": [
    {
     "data": {
      "text/plain": [
       "[1, 2, 3, 4, 'devi', 'prasad', 30.45, (6+5j), True, [5, 6, 7, 8]]"
      ]
     },
     "execution_count": 8,
     "metadata": {},
     "output_type": "execute_result"
    }
   ],
   "source": [
    "l1"
   ]
  },
  {
   "cell_type": "code",
   "execution_count": 9,
   "id": "18eb7184-4a0a-4515-817f-8e0c606b9c23",
   "metadata": {},
   "outputs": [
    {
     "data": {
      "text/plain": [
       "list"
      ]
     },
     "execution_count": 9,
     "metadata": {},
     "output_type": "execute_result"
    }
   ],
   "source": [
    "type(l1)"
   ]
  },
  {
   "cell_type": "raw",
   "id": "13e0f956-87f0-4457-9a75-43934e3f757c",
   "metadata": {},
   "source": [
    "Elements can be extracted from the list by using their index number:"
   ]
  },
  {
   "cell_type": "raw",
   "id": "febd8d09-e057-45ff-ad35-d1d672cbcb2e",
   "metadata": {},
   "source": [
    "For example if i want to extract \"devi\" from the given list:"
   ]
  },
  {
   "cell_type": "code",
   "execution_count": 10,
   "id": "ab89ff19-b4b0-4336-9d65-bd0c4181bb2b",
   "metadata": {},
   "outputs": [
    {
     "data": {
      "text/plain": [
       "'devi'"
      ]
     },
     "execution_count": 10,
     "metadata": {},
     "output_type": "execute_result"
    }
   ],
   "source": [
    "l1[4]"
   ]
  },
  {
   "cell_type": "code",
   "execution_count": 11,
   "id": "28903a09-d78a-432c-9797-f8ffbd739350",
   "metadata": {},
   "outputs": [
    {
     "data": {
      "text/plain": [
       "[5, 6, 7, 8]"
      ]
     },
     "execution_count": 11,
     "metadata": {},
     "output_type": "execute_result"
    }
   ],
   "source": [
    "l1[-1]"
   ]
  },
  {
   "cell_type": "code",
   "execution_count": 12,
   "id": "8daa331f-b278-425d-a867-e9ce2f25387c",
   "metadata": {},
   "outputs": [
    {
     "data": {
      "text/plain": [
       "8"
      ]
     },
     "execution_count": 12,
     "metadata": {},
     "output_type": "execute_result"
    }
   ],
   "source": [
    "l1[-1][3]"
   ]
  },
  {
   "cell_type": "code",
   "execution_count": 13,
   "id": "7a5fcf7c-2e8a-4b61-ba86-48ffd567cf7c",
   "metadata": {},
   "outputs": [
    {
     "data": {
      "text/plain": [
       "[1, 2, 3, 4, 'devi']"
      ]
     },
     "execution_count": 13,
     "metadata": {},
     "output_type": "execute_result"
    }
   ],
   "source": [
    "l1[0:5]"
   ]
  },
  {
   "cell_type": "code",
   "execution_count": 14,
   "id": "d3274a9c-3f6e-4491-a8ad-a5628b5dd2a0",
   "metadata": {},
   "outputs": [],
   "source": [
    "l2=[3,4,5,\"random\",\"guy\"]"
   ]
  },
  {
   "cell_type": "raw",
   "id": "a07497a3-ddbf-430d-ac6e-cf3d6f2d2cbd",
   "metadata": {},
   "source": [
    "String Concatenation:"
   ]
  },
  {
   "cell_type": "code",
   "execution_count": 15,
   "id": "3fd62f6f-1bd9-45c5-9b25-025afcc73176",
   "metadata": {},
   "outputs": [
    {
     "data": {
      "text/plain": [
       "[1,\n",
       " 2,\n",
       " 3,\n",
       " 4,\n",
       " 'devi',\n",
       " 'prasad',\n",
       " 30.45,\n",
       " (6+5j),\n",
       " True,\n",
       " [5, 6, 7, 8],\n",
       " 3,\n",
       " 4,\n",
       " 5,\n",
       " 'random',\n",
       " 'guy']"
      ]
     },
     "execution_count": 15,
     "metadata": {},
     "output_type": "execute_result"
    }
   ],
   "source": [
    "l1+l2"
   ]
  },
  {
   "cell_type": "raw",
   "id": "08a98477-9682-4fc9-b6c1-62ef81a536bf",
   "metadata": {},
   "source": [
    "NOTE: In concatenation both the parties are to be of same form"
   ]
  },
  {
   "cell_type": "code",
   "execution_count": 16,
   "id": "bfdf96db-16bf-4bf2-a9fa-85b0ce1101ac",
   "metadata": {},
   "outputs": [
    {
     "ename": "TypeError",
     "evalue": "can only concatenate list (not \"str\") to list",
     "output_type": "error",
     "traceback": [
      "\u001b[0;31m---------------------------------------------------------------------------\u001b[0m",
      "\u001b[0;31mTypeError\u001b[0m                                 Traceback (most recent call last)",
      "Cell \u001b[0;32mIn[16], line 1\u001b[0m\n\u001b[0;32m----> 1\u001b[0m \u001b[43ml2\u001b[49m\u001b[38;5;241;43m+\u001b[39;49m\u001b[38;5;124;43m\"\u001b[39;49m\u001b[38;5;124;43mpython\u001b[39;49m\u001b[38;5;124;43m\"\u001b[39;49m\n",
      "\u001b[0;31mTypeError\u001b[0m: can only concatenate list (not \"str\") to list"
     ]
    }
   ],
   "source": [
    "l2+\"python\""
   ]
  },
  {
   "cell_type": "raw",
   "id": "6ba19913-0097-405c-8bb1-f7b51ce26cf3",
   "metadata": {},
   "source": [
    "Type cast can help"
   ]
  },
  {
   "cell_type": "code",
   "execution_count": 17,
   "id": "5d7d8d6a-05e2-453b-a29a-e0228a501616",
   "metadata": {},
   "outputs": [
    {
     "data": {
      "text/plain": [
       "['p', 'y', 't', 'h', 'o', 'n']"
      ]
     },
     "execution_count": 17,
     "metadata": {},
     "output_type": "execute_result"
    }
   ],
   "source": [
    "list(\"python\")"
   ]
  },
  {
   "cell_type": "code",
   "execution_count": 3,
   "id": "28f1625e-1631-4e0f-a6f1-3c7a3daaa13a",
   "metadata": {},
   "outputs": [],
   "source": [
    "l1=[1,2,3,4,\"devi\",\"prasad\",30.45,6+5j,True,[5,6,7,8]]"
   ]
  },
  {
   "cell_type": "code",
   "execution_count": 4,
   "id": "9982f6a0-357e-429d-86c3-1c6a3de2c884",
   "metadata": {},
   "outputs": [],
   "source": [
    "l2=[3,4,5,\"random\",\"guy\"]"
   ]
  },
  {
   "cell_type": "code",
   "execution_count": 5,
   "id": "55b027d9-65ad-4366-bf38-b44f5cb3941e",
   "metadata": {},
   "outputs": [
    {
     "data": {
      "text/plain": [
       "[1, 2, 3, 4, 'devi', 'prasad', 30.45, (6+5j), True, [5, 6, 7, 8]]"
      ]
     },
     "execution_count": 5,
     "metadata": {},
     "output_type": "execute_result"
    }
   ],
   "source": [
    "l1"
   ]
  },
  {
   "cell_type": "code",
   "execution_count": 6,
   "id": "f00dd258-6476-48ec-92ce-adaea1a6d26e",
   "metadata": {},
   "outputs": [
    {
     "data": {
      "text/plain": [
       "[3, 4, 5, 'random', 'guy']"
      ]
     },
     "execution_count": 6,
     "metadata": {},
     "output_type": "execute_result"
    }
   ],
   "source": [
    "l2"
   ]
  },
  {
   "cell_type": "code",
   "execution_count": 7,
   "id": "0a7e7318-1e39-4f8f-a019-525a5488a03f",
   "metadata": {},
   "outputs": [
    {
     "data": {
      "text/plain": [
       "[1,\n",
       " 2,\n",
       " 3,\n",
       " 4,\n",
       " 'devi',\n",
       " 'prasad',\n",
       " 30.45,\n",
       " (6+5j),\n",
       " True,\n",
       " [5, 6, 7, 8],\n",
       " 3,\n",
       " 4,\n",
       " 5,\n",
       " 'random',\n",
       " 'guy']"
      ]
     },
     "execution_count": 7,
     "metadata": {},
     "output_type": "execute_result"
    }
   ],
   "source": [
    "l1+l2"
   ]
  },
  {
   "cell_type": "code",
   "execution_count": 8,
   "id": "441717d7-3df4-44d5-ad7b-339b1521c933",
   "metadata": {},
   "outputs": [
    {
     "ename": "TypeError",
     "evalue": "can only concatenate list (not \"str\") to list",
     "output_type": "error",
     "traceback": [
      "\u001b[0;31m---------------------------------------------------------------------------\u001b[0m",
      "\u001b[0;31mTypeError\u001b[0m                                 Traceback (most recent call last)",
      "Cell \u001b[0;32mIn[8], line 1\u001b[0m\n\u001b[0;32m----> 1\u001b[0m \u001b[43ml2\u001b[49m\u001b[38;5;241;43m+\u001b[39;49m\u001b[38;5;124;43m\"\u001b[39;49m\u001b[38;5;124;43mbailur\u001b[39;49m\u001b[38;5;124;43m\"\u001b[39;49m\n",
      "\u001b[0;31mTypeError\u001b[0m: can only concatenate list (not \"str\") to list"
     ]
    }
   ],
   "source": [
    "l2+\"bailur\""
   ]
  },
  {
   "cell_type": "code",
   "execution_count": 10,
   "id": "c8e54b15-ef11-4b9c-868e-062e8bc2896a",
   "metadata": {},
   "outputs": [
    {
     "data": {
      "text/plain": [
       "['b', 'a', 'i', 'l', 'u', 'r']"
      ]
     },
     "execution_count": 10,
     "metadata": {},
     "output_type": "execute_result"
    }
   ],
   "source": [
    "list(\"bailur\")"
   ]
  },
  {
   "cell_type": "code",
   "execution_count": 12,
   "id": "ab7cccce-88bc-43a2-8d36-81ce0067b0b3",
   "metadata": {},
   "outputs": [
    {
     "data": {
      "text/plain": [
       "[3, 4, 5, 'random', 'guy', 3, 4, 5, 'random', 'guy']"
      ]
     },
     "execution_count": 12,
     "metadata": {},
     "output_type": "execute_result"
    }
   ],
   "source": [
    "l2*2"
   ]
  },
  {
   "cell_type": "code",
   "execution_count": 13,
   "id": "2edaf6d8-d2a7-4a2a-aa68-6e7541fc45a3",
   "metadata": {},
   "outputs": [
    {
     "data": {
      "text/plain": [
       "[3, 4, 5, 'random', 'guy']"
      ]
     },
     "execution_count": 13,
     "metadata": {},
     "output_type": "execute_result"
    }
   ],
   "source": [
    "l2"
   ]
  },
  {
   "cell_type": "code",
   "execution_count": 14,
   "id": "4273891c-5444-4781-8704-3ff012a49aef",
   "metadata": {},
   "outputs": [
    {
     "data": {
      "text/plain": [
       "5"
      ]
     },
     "execution_count": 14,
     "metadata": {},
     "output_type": "execute_result"
    }
   ],
   "source": [
    "l2[2]"
   ]
  },
  {
   "cell_type": "code",
   "execution_count": 15,
   "id": "1db6905e-4346-402c-a01e-84d4afdead10",
   "metadata": {},
   "outputs": [],
   "source": [
    "l2[0]=300"
   ]
  },
  {
   "cell_type": "code",
   "execution_count": 16,
   "id": "408f5fc1-3151-4294-8646-54f0f92acd09",
   "metadata": {},
   "outputs": [
    {
     "data": {
      "text/plain": [
       "[300, 4, 5, 'random', 'guy']"
      ]
     },
     "execution_count": 16,
     "metadata": {},
     "output_type": "execute_result"
    }
   ],
   "source": [
    "l2"
   ]
  },
  {
   "cell_type": "raw",
   "id": "a5d599ea-95ca-465a-88e6-455b06396dcc",
   "metadata": {},
   "source": [
    "List is mutable entity"
   ]
  },
  {
   "cell_type": "raw",
   "id": "5ddc8267-3129-4d55-a2e4-1b3d3fc56629",
   "metadata": {},
   "source": [
    "tuples: it is immutable"
   ]
  },
  {
   "cell_type": "code",
   "execution_count": 17,
   "id": "e607c8b7-d43d-4283-9858-ef778c22bd04",
   "metadata": {},
   "outputs": [],
   "source": [
    "t=(1,2,3,4,45.6,6+7j,True,\"devda\")"
   ]
  },
  {
   "cell_type": "code",
   "execution_count": 18,
   "id": "7561e2bd-2c74-48e5-8e68-9c11af7bb6dc",
   "metadata": {},
   "outputs": [
    {
     "data": {
      "text/plain": [
       "tuple"
      ]
     },
     "execution_count": 18,
     "metadata": {},
     "output_type": "execute_result"
    }
   ],
   "source": [
    "type(t)"
   ]
  },
  {
   "cell_type": "code",
   "execution_count": 19,
   "id": "b7c025e9-68d0-4f9e-9dbf-263a9c8f3256",
   "metadata": {},
   "outputs": [
    {
     "data": {
      "text/plain": [
       "1"
      ]
     },
     "execution_count": 19,
     "metadata": {},
     "output_type": "execute_result"
    }
   ],
   "source": [
    "t[0]"
   ]
  },
  {
   "cell_type": "code",
   "execution_count": 20,
   "id": "60c11fa3-8ed0-48ec-bd18-bbc417c8f89e",
   "metadata": {},
   "outputs": [
    {
     "data": {
      "text/plain": [
       "'devda'"
      ]
     },
     "execution_count": 20,
     "metadata": {},
     "output_type": "execute_result"
    }
   ],
   "source": [
    "t[-1]"
   ]
  },
  {
   "cell_type": "code",
   "execution_count": 21,
   "id": "c0881bda-8be9-4e05-bf22-c316fde02014",
   "metadata": {},
   "outputs": [
    {
     "data": {
      "text/plain": [
       "('devda', True, (6+7j), 45.6, 4, 3, 2, 1)"
      ]
     },
     "execution_count": 21,
     "metadata": {},
     "output_type": "execute_result"
    }
   ],
   "source": [
    "t[::-1]"
   ]
  },
  {
   "cell_type": "code",
   "execution_count": 22,
   "id": "c8c6d884-7d15-4525-a65b-69d1cff42a88",
   "metadata": {},
   "outputs": [
    {
     "data": {
      "text/plain": [
       "1"
      ]
     },
     "execution_count": 22,
     "metadata": {},
     "output_type": "execute_result"
    }
   ],
   "source": [
    "t[0]"
   ]
  },
  {
   "cell_type": "code",
   "execution_count": 23,
   "id": "2e6550ad-8f17-4be9-be3a-ec05f1d1ecca",
   "metadata": {},
   "outputs": [
    {
     "ename": "TypeError",
     "evalue": "'tuple' object does not support item assignment",
     "output_type": "error",
     "traceback": [
      "\u001b[0;31m---------------------------------------------------------------------------\u001b[0m",
      "\u001b[0;31mTypeError\u001b[0m                                 Traceback (most recent call last)",
      "Cell \u001b[0;32mIn[23], line 1\u001b[0m\n\u001b[0;32m----> 1\u001b[0m \u001b[43mt\u001b[49m\u001b[43m[\u001b[49m\u001b[38;5;241;43m0\u001b[39;49m\u001b[43m]\u001b[49m\u001b[38;5;241m=\u001b[39m\u001b[38;5;124m\"\u001b[39m\u001b[38;5;124mtommy\u001b[39m\u001b[38;5;124m\"\u001b[39m\n",
      "\u001b[0;31mTypeError\u001b[0m: 'tuple' object does not support item assignment"
     ]
    }
   ],
   "source": [
    "t[0]=\"tommy\""
   ]
  },
  {
   "cell_type": "raw",
   "id": "ea9e0a0f-257e-4a6c-b895-739e3271a5ab",
   "metadata": {},
   "source": [
    "Hence tuples are immutable entity"
   ]
  },
  {
   "cell_type": "code",
   "execution_count": 24,
   "id": "96324d9e-aae6-46e7-a1d3-b5306685fcfe",
   "metadata": {},
   "outputs": [],
   "source": [
    "t1=(5,6,7,8,9)"
   ]
  },
  {
   "cell_type": "code",
   "execution_count": 25,
   "id": "880fea49-a75f-4846-a7b2-80783f0b3885",
   "metadata": {},
   "outputs": [
    {
     "data": {
      "text/plain": [
       "(1, 2, 3, 4, 45.6, (6+7j), True, 'devda', 5, 6, 7, 8, 9)"
      ]
     },
     "execution_count": 25,
     "metadata": {},
     "output_type": "execute_result"
    }
   ],
   "source": [
    "t+t1"
   ]
  },
  {
   "cell_type": "code",
   "execution_count": 26,
   "id": "cfb95e2c-d9c1-4f6a-af12-811031dbfed7",
   "metadata": {},
   "outputs": [
    {
     "data": {
      "text/plain": [
       "(1,\n",
       " 2,\n",
       " 3,\n",
       " 4,\n",
       " 45.6,\n",
       " (6+7j),\n",
       " True,\n",
       " 'devda',\n",
       " 1,\n",
       " 2,\n",
       " 3,\n",
       " 4,\n",
       " 45.6,\n",
       " (6+7j),\n",
       " True,\n",
       " 'devda')"
      ]
     },
     "execution_count": 26,
     "metadata": {},
     "output_type": "execute_result"
    }
   ],
   "source": [
    "t*2"
   ]
  },
  {
   "cell_type": "code",
   "execution_count": 27,
   "id": "c7a29810-b078-47d8-ac2a-5114a32a4d11",
   "metadata": {},
   "outputs": [
    {
     "data": {
      "text/plain": [
       "[1, 2, 3, 4, 45.6, (6+7j), True, 'devda']"
      ]
     },
     "execution_count": 27,
     "metadata": {},
     "output_type": "execute_result"
    }
   ],
   "source": [
    "list(t)"
   ]
  },
  {
   "cell_type": "code",
   "execution_count": 28,
   "id": "f8db60a5-1780-4f9e-8be5-b6ad0f5d30a8",
   "metadata": {},
   "outputs": [
    {
     "data": {
      "text/plain": [
       "(300, 4, 5, 'random', 'guy')"
      ]
     },
     "execution_count": 28,
     "metadata": {},
     "output_type": "execute_result"
    }
   ],
   "source": [
    "tuple(l2)"
   ]
  },
  {
   "cell_type": "code",
   "execution_count": 29,
   "id": "4a2a292a-0eab-4bdf-a41b-4e36c058cc6e",
   "metadata": {},
   "outputs": [
    {
     "data": {
      "text/plain": [
       "8"
      ]
     },
     "execution_count": 29,
     "metadata": {},
     "output_type": "execute_result"
    }
   ],
   "source": [
    "len(t)"
   ]
  },
  {
   "cell_type": "code",
   "execution_count": 30,
   "id": "627b52d5-7e1a-4e00-841b-26f45db5f391",
   "metadata": {},
   "outputs": [
    {
     "data": {
      "text/plain": [
       "4"
      ]
     },
     "execution_count": 30,
     "metadata": {},
     "output_type": "execute_result"
    }
   ],
   "source": [
    "len(\"devi\")"
   ]
  },
  {
   "cell_type": "code",
   "execution_count": 31,
   "id": "52db373f-7c3b-4d57-b24d-2ed19bee5a6d",
   "metadata": {},
   "outputs": [
    {
     "data": {
      "text/plain": [
       "7"
      ]
     },
     "execution_count": 31,
     "metadata": {},
     "output_type": "execute_result"
    }
   ],
   "source": [
    "len(\"devi  p\")"
   ]
  },
  {
   "cell_type": "raw",
   "id": "4963dcfd-74a5-4ed6-bccf-fcbb1cbadc11",
   "metadata": {},
   "source": [
    "set"
   ]
  },
  {
   "cell_type": "code",
   "execution_count": 32,
   "id": "2dc228a4-d6b0-413f-95b6-e8be46235993",
   "metadata": {},
   "outputs": [],
   "source": [
    "s={}"
   ]
  },
  {
   "cell_type": "code",
   "execution_count": 33,
   "id": "d3a5eb61-e2e7-471b-8c79-ad7e3d44f134",
   "metadata": {},
   "outputs": [
    {
     "data": {
      "text/plain": [
       "dict"
      ]
     },
     "execution_count": 33,
     "metadata": {},
     "output_type": "execute_result"
    }
   ],
   "source": [
    "type(s)"
   ]
  },
  {
   "cell_type": "code",
   "execution_count": 38,
   "id": "10df2316-007f-4e49-88a2-c387bce57925",
   "metadata": {},
   "outputs": [],
   "source": [
    "s1={1,2,3,4,5,5}"
   ]
  },
  {
   "cell_type": "code",
   "execution_count": 39,
   "id": "b076378f-f65a-42e7-8170-c3b4c4fe1172",
   "metadata": {},
   "outputs": [
    {
     "data": {
      "text/plain": [
       "set"
      ]
     },
     "execution_count": 39,
     "metadata": {},
     "output_type": "execute_result"
    }
   ],
   "source": [
    "type(s1)"
   ]
  },
  {
   "cell_type": "code",
   "execution_count": 40,
   "id": "f5ae79ed-9645-441e-abc7-33c6730ca17f",
   "metadata": {},
   "outputs": [
    {
     "data": {
      "text/plain": [
       "{1, 2, 3, 4, 5}"
      ]
     },
     "execution_count": 40,
     "metadata": {},
     "output_type": "execute_result"
    }
   ],
   "source": [
    "s1"
   ]
  },
  {
   "cell_type": "raw",
   "id": "c80a1e13-855c-4355-8f57-2466adf6dffd",
   "metadata": {},
   "source": [
    "set always removes the dupliactes"
   ]
  },
  {
   "cell_type": "code",
   "execution_count": 43,
   "id": "42a3cfc5-c201-4f5a-95a1-642d4ffbfb4b",
   "metadata": {},
   "outputs": [],
   "source": [
    "s2={\"devi\",\"Devi\",\"devi\",1,2,3,4,5}"
   ]
  },
  {
   "cell_type": "code",
   "execution_count": 44,
   "id": "67f1a39d-faa1-4e29-b772-51ca90b29b91",
   "metadata": {},
   "outputs": [
    {
     "data": {
      "text/plain": [
       "{1, 2, 3, 4, 5, 'Devi', 'devi'}"
      ]
     },
     "execution_count": 44,
     "metadata": {},
     "output_type": "execute_result"
    }
   ],
   "source": [
    "s2"
   ]
  },
  {
   "cell_type": "raw",
   "id": "a8138df3-daf7-4776-9077-7d81b4f6c8d4",
   "metadata": {},
   "source": [
    "PYTHON IS CASE SENSITIVE"
   ]
  },
  {
   "cell_type": "code",
   "execution_count": 45,
   "id": "7cbe9808-be04-4f6a-a6b6-82f7e4595845",
   "metadata": {},
   "outputs": [
    {
     "data": {
      "text/plain": [
       "[1, 2, 3, 'devi', 4, 5, 'Devi']"
      ]
     },
     "execution_count": 45,
     "metadata": {},
     "output_type": "execute_result"
    }
   ],
   "source": [
    "list(s2)"
   ]
  },
  {
   "cell_type": "code",
   "execution_count": 46,
   "id": "bf899bd3-c5cb-4f2a-bdc1-9b597bc7f563",
   "metadata": {},
   "outputs": [
    {
     "data": {
      "text/plain": [
       "(1, 2, 3, 'devi', 4, 5, 'Devi')"
      ]
     },
     "execution_count": 46,
     "metadata": {},
     "output_type": "execute_result"
    }
   ],
   "source": [
    "tuple(s2)"
   ]
  },
  {
   "cell_type": "code",
   "execution_count": 47,
   "id": "fbc244ac-bc4e-4475-8f0a-f920956c3741",
   "metadata": {},
   "outputs": [
    {
     "ename": "TypeError",
     "evalue": "'set' object is not subscriptable",
     "output_type": "error",
     "traceback": [
      "\u001b[0;31m---------------------------------------------------------------------------\u001b[0m",
      "\u001b[0;31mTypeError\u001b[0m                                 Traceback (most recent call last)",
      "Cell \u001b[0;32mIn[47], line 1\u001b[0m\n\u001b[0;32m----> 1\u001b[0m \u001b[43ms2\u001b[49m\u001b[43m[\u001b[49m\u001b[38;5;241;43m0\u001b[39;49m\u001b[43m]\u001b[49m\n",
      "\u001b[0;31mTypeError\u001b[0m: 'set' object is not subscriptable"
     ]
    }
   ],
   "source": [
    "s2[0]"
   ]
  },
  {
   "cell_type": "raw",
   "id": "2413c187-446a-481c-b34e-550d9a550ac6",
   "metadata": {},
   "source": [
    "Hence s2 is immutable, inorder to use indexing , use typecast"
   ]
  },
  {
   "cell_type": "code",
   "execution_count": 1,
   "id": "0af56ce8-6ee4-4ca8-9bdb-d118f034a8d0",
   "metadata": {},
   "outputs": [],
   "source": [
    "s3={345,657,768,34,567,34,56}"
   ]
  },
  {
   "cell_type": "code",
   "execution_count": 2,
   "id": "021dd974-c6f1-476b-b1df-f27f1f4030a9",
   "metadata": {},
   "outputs": [
    {
     "data": {
      "text/plain": [
       "{34, 56, 345, 567, 657, 768}"
      ]
     },
     "execution_count": 2,
     "metadata": {},
     "output_type": "execute_result"
    }
   ],
   "source": [
    "s3"
   ]
  },
  {
   "cell_type": "code",
   "execution_count": 3,
   "id": "04c7efab-4f26-4ca9-b961-147ebdfbd1bb",
   "metadata": {},
   "outputs": [],
   "source": [
    "d={}"
   ]
  },
  {
   "cell_type": "code",
   "execution_count": 4,
   "id": "8a9dbd83-51eb-4e18-ac4a-33be7054a57c",
   "metadata": {},
   "outputs": [
    {
     "data": {
      "text/plain": [
       "dict"
      ]
     },
     "execution_count": 4,
     "metadata": {},
     "output_type": "execute_result"
    }
   ],
   "source": [
    "type(d)"
   ]
  },
  {
   "cell_type": "code",
   "execution_count": 8,
   "id": "46554362-0be1-4f06-8550-64e9342a17b8",
   "metadata": {},
   "outputs": [],
   "source": [
    "d1={'name':\"deviprasad\",\"subject\":[\"data science\",\"big data\" \"data analytics\"], \"number\":2433454}"
   ]
  },
  {
   "cell_type": "code",
   "execution_count": 9,
   "id": "7e3568f6-48bb-4b26-bb4f-3015e598f9f7",
   "metadata": {},
   "outputs": [
    {
     "data": {
      "text/plain": [
       "{'name': 'deviprasad',\n",
       " 'subject': ['data science', 'big datadata analytics'],\n",
       " 'number': 2433454}"
      ]
     },
     "execution_count": 9,
     "metadata": {},
     "output_type": "execute_result"
    }
   ],
   "source": [
    "d1"
   ]
  },
  {
   "cell_type": "code",
   "execution_count": 11,
   "id": "dfff74a8-6c13-4094-846e-bf38730fff7c",
   "metadata": {},
   "outputs": [],
   "source": [
    "d2={\"name\":\"devi\",\"name\":\"pwskills\"}"
   ]
  },
  {
   "cell_type": "code",
   "execution_count": 12,
   "id": "57118d39-9803-4b7f-ad4a-8e8193ddff72",
   "metadata": {},
   "outputs": [
    {
     "data": {
      "text/plain": [
       "{'name': 'pwskills'}"
      ]
     },
     "execution_count": 12,
     "metadata": {},
     "output_type": "execute_result"
    }
   ],
   "source": [
    "d2"
   ]
  },
  {
   "cell_type": "raw",
   "id": "ef840f6a-0dc7-4001-bb12-5ee952947e6b",
   "metadata": {},
   "source": [
    "Key should always be unique , orelse it will overrride"
   ]
  },
  {
   "cell_type": "code",
   "execution_count": 13,
   "id": "08fa07b3-c087-481d-a6ac-8cbe193ef3e7",
   "metadata": {},
   "outputs": [],
   "source": [
    "d3={2345:\"devi\"}"
   ]
  },
  {
   "cell_type": "code",
   "execution_count": 14,
   "id": "9d32d675-aa45-4021-947b-6d321935604a",
   "metadata": {},
   "outputs": [
    {
     "data": {
      "text/plain": [
       "{2345: 'devi'}"
      ]
     },
     "execution_count": 14,
     "metadata": {},
     "output_type": "execute_result"
    }
   ],
   "source": [
    "d3"
   ]
  },
  {
   "cell_type": "code",
   "execution_count": 15,
   "id": "e68bae19-8cf6-4dda-9106-c4ed91d47de4",
   "metadata": {},
   "outputs": [
    {
     "ename": "TypeError",
     "evalue": "unhashable type: 'list'",
     "output_type": "error",
     "traceback": [
      "\u001b[0;31m---------------------------------------------------------------------------\u001b[0m",
      "\u001b[0;31mTypeError\u001b[0m                                 Traceback (most recent call last)",
      "Cell \u001b[0;32mIn[15], line 1\u001b[0m\n\u001b[0;32m----> 1\u001b[0m d3\u001b[38;5;241m=\u001b[39m{[\u001b[38;5;241m3\u001b[39m,\u001b[38;5;241m5\u001b[39m,\u001b[38;5;241m7\u001b[39m,\u001b[38;5;241m8\u001b[39m],\u001b[38;5;124m\"\u001b[39m\u001b[38;5;124mdevi\u001b[39m\u001b[38;5;124m\"\u001b[39m}\n",
      "\u001b[0;31mTypeError\u001b[0m: unhashable type: 'list'"
     ]
    }
   ],
   "source": [
    "d3={[3,5,7,8],\"devi\"}"
   ]
  },
  {
   "cell_type": "raw",
   "id": "01e58126-ad0a-401a-8efd-d3bc31565e86",
   "metadata": {},
   "source": [
    "set,list can't be taken as key but tuple can behave as key, special character can't be used as key. Value can be duplicate but key cant be dupliacate"
   ]
  },
  {
   "cell_type": "code",
   "execution_count": 16,
   "id": "5c7de637-e304-4263-8ae5-6be5280e769b",
   "metadata": {},
   "outputs": [
    {
     "data": {
      "text/plain": [
       "'deviprasad'"
      ]
     },
     "execution_count": 16,
     "metadata": {},
     "output_type": "execute_result"
    }
   ],
   "source": [
    "d1['name']"
   ]
  },
  {
   "cell_type": "code",
   "execution_count": 2,
   "id": "8f9fc804-8c68-4374-969d-5e127fa6aa55",
   "metadata": {},
   "outputs": [],
   "source": [
    "s1=\"pwskills\""
   ]
  },
  {
   "cell_type": "code",
   "execution_count": 3,
   "id": "6c8f59d2-ffdd-48bf-8743-ee82fda8c472",
   "metadata": {},
   "outputs": [
    {
     "data": {
      "text/plain": [
       "2"
      ]
     },
     "execution_count": 3,
     "metadata": {},
     "output_type": "execute_result"
    }
   ],
   "source": [
    "s1.count('l')"
   ]
  },
  {
   "cell_type": "code",
   "execution_count": 4,
   "id": "bab6b731-6a35-4168-b578-c1a53770f9e1",
   "metadata": {},
   "outputs": [
    {
     "data": {
      "text/plain": [
       "2"
      ]
     },
     "execution_count": 4,
     "metadata": {},
     "output_type": "execute_result"
    }
   ],
   "source": [
    "s1.find('s')"
   ]
  },
  {
   "cell_type": "code",
   "execution_count": 5,
   "id": "2dafe6eb-3263-439f-bc6e-5dd17d0970e9",
   "metadata": {},
   "outputs": [
    {
     "data": {
      "text/plain": [
       "0"
      ]
     },
     "execution_count": 5,
     "metadata": {},
     "output_type": "execute_result"
    }
   ],
   "source": [
    "s1.index('p')"
   ]
  },
  {
   "cell_type": "code",
   "execution_count": 6,
   "id": "53b3cb0c-e668-421a-a618-21c90b160023",
   "metadata": {},
   "outputs": [
    {
     "data": {
      "text/plain": [
       "2"
      ]
     },
     "execution_count": 6,
     "metadata": {},
     "output_type": "execute_result"
    }
   ],
   "source": [
    "s1.index('s')"
   ]
  },
  {
   "cell_type": "code",
   "execution_count": 7,
   "id": "861fc7e2-17e5-416c-a329-d9994776045d",
   "metadata": {},
   "outputs": [
    {
     "data": {
      "text/plain": [
       "-1"
      ]
     },
     "execution_count": 7,
     "metadata": {},
     "output_type": "execute_result"
    }
   ],
   "source": [
    "s1.find('z')"
   ]
  },
  {
   "cell_type": "code",
   "execution_count": 8,
   "id": "f732ed4c-9b67-48fb-9aaf-7dab8ea0b47a",
   "metadata": {},
   "outputs": [
    {
     "ename": "ValueError",
     "evalue": "substring not found",
     "output_type": "error",
     "traceback": [
      "\u001b[0;31m---------------------------------------------------------------------------\u001b[0m",
      "\u001b[0;31mValueError\u001b[0m                                Traceback (most recent call last)",
      "Cell \u001b[0;32mIn[8], line 1\u001b[0m\n\u001b[0;32m----> 1\u001b[0m \u001b[43ms1\u001b[49m\u001b[38;5;241;43m.\u001b[39;49m\u001b[43mindex\u001b[49m\u001b[43m(\u001b[49m\u001b[38;5;124;43m'\u001b[39;49m\u001b[38;5;124;43mz\u001b[39;49m\u001b[38;5;124;43m'\u001b[39;49m\u001b[43m)\u001b[49m\n",
      "\u001b[0;31mValueError\u001b[0m: substring not found"
     ]
    }
   ],
   "source": [
    "s1.index('z')"
   ]
  },
  {
   "cell_type": "raw",
   "id": "fde6896b-1c31-46d1-9a25-ab89a7f7a0ec",
   "metadata": {},
   "source": [
    "In find if it cannot find any element it will return as -1 ,  but in index it will show error"
   ]
  },
  {
   "cell_type": "code",
   "execution_count": 9,
   "id": "8086cc7c-9e3c-49a6-a1dd-912ca7772142",
   "metadata": {},
   "outputs": [
    {
     "data": {
      "text/plain": [
       "'PWSKILLS'"
      ]
     },
     "execution_count": 9,
     "metadata": {},
     "output_type": "execute_result"
    }
   ],
   "source": [
    "s1.upper()"
   ]
  },
  {
   "cell_type": "code",
   "execution_count": 10,
   "id": "9aebbe88-ec73-4a52-bc85-23ab51004d53",
   "metadata": {},
   "outputs": [
    {
     "data": {
      "text/plain": [
       "'pwskills'"
      ]
     },
     "execution_count": 10,
     "metadata": {},
     "output_type": "execute_result"
    }
   ],
   "source": [
    "s1.lower()"
   ]
  },
  {
   "cell_type": "code",
   "execution_count": 11,
   "id": "3a3fd332-d7a1-4bb4-9135-8daa3179b097",
   "metadata": {},
   "outputs": [],
   "source": [
    "s2=\"my name is poornima\""
   ]
  },
  {
   "cell_type": "code",
   "execution_count": 12,
   "id": "61afb2fd-c2db-403a-88f2-a84c42eab41d",
   "metadata": {},
   "outputs": [
    {
     "data": {
      "text/plain": [
       "'My Name Is Poornima'"
      ]
     },
     "execution_count": 12,
     "metadata": {},
     "output_type": "execute_result"
    }
   ],
   "source": [
    "s2.title()"
   ]
  },
  {
   "cell_type": "code",
   "execution_count": 13,
   "id": "28288e8f-8945-4045-ad56-88c990dc72fa",
   "metadata": {},
   "outputs": [
    {
     "data": {
      "text/plain": [
       "['my', 'name', 'is', 'poornima']"
      ]
     },
     "execution_count": 13,
     "metadata": {},
     "output_type": "execute_result"
    }
   ],
   "source": [
    "s2.split()"
   ]
  },
  {
   "cell_type": "code",
   "execution_count": 14,
   "id": "1b314279-4ee8-4d35-adb9-ea7d97366565",
   "metadata": {},
   "outputs": [],
   "source": [
    "s3=\"my name,is,deviprasad,shetty\""
   ]
  },
  {
   "cell_type": "code",
   "execution_count": 15,
   "id": "ed42fb92-28fd-473c-8421-ca08fb224540",
   "metadata": {},
   "outputs": [
    {
     "data": {
      "text/plain": [
       "['my', 'name,is,deviprasad,shetty']"
      ]
     },
     "execution_count": 15,
     "metadata": {},
     "output_type": "execute_result"
    }
   ],
   "source": [
    "s3.split()"
   ]
  },
  {
   "cell_type": "raw",
   "id": "bde19a01-bdb4-4de0-9234-4313ba511ac8",
   "metadata": {},
   "source": [
    "split space based on space"
   ]
  },
  {
   "cell_type": "code",
   "execution_count": 17,
   "id": "f67f034d-cba6-43e0-9845-5a2f3c6a4f56",
   "metadata": {},
   "outputs": [
    {
     "data": {
      "text/plain": [
       "['my name', 'is', 'deviprasad', 'shetty']"
      ]
     },
     "execution_count": 17,
     "metadata": {},
     "output_type": "execute_result"
    }
   ],
   "source": [
    "s3.split(',')"
   ]
  },
  {
   "cell_type": "code",
   "execution_count": 18,
   "id": "ecea7b06-4834-448b-ab73-7109c32e1a56",
   "metadata": {},
   "outputs": [],
   "source": [
    "s4=\"this is my first pro class . i am attending this class for 4th time\""
   ]
  },
  {
   "cell_type": "code",
   "execution_count": 20,
   "id": "9ee9e96d-c0bc-4fe4-b1aa-c56b848c1cd9",
   "metadata": {},
   "outputs": [
    {
     "data": {
      "text/plain": [
       "'this is my first pro class '"
      ]
     },
     "execution_count": 20,
     "metadata": {},
     "output_type": "execute_result"
    }
   ],
   "source": [
    "s4.split('.')[0]"
   ]
  },
  {
   "cell_type": "code",
   "execution_count": 21,
   "id": "8448c1d1-8fd2-41e7-989c-a5d4c21c3ca2",
   "metadata": {},
   "outputs": [
    {
     "data": {
      "text/plain": [
       "' i am attending this class for 4th time'"
      ]
     },
     "execution_count": 21,
     "metadata": {},
     "output_type": "execute_result"
    }
   ],
   "source": [
    "s4.split('.')[1]"
   ]
  },
  {
   "cell_type": "code",
   "execution_count": 22,
   "id": "fda300eb-8911-4d32-a026-6f0b14b48d33",
   "metadata": {},
   "outputs": [
    {
     "data": {
      "text/plain": [
       "'my name,is,deviprasad,shetty'"
      ]
     },
     "execution_count": 22,
     "metadata": {},
     "output_type": "execute_result"
    }
   ],
   "source": [
    "s3"
   ]
  },
  {
   "cell_type": "code",
   "execution_count": 23,
   "id": "4639a5b7-a37c-4e3a-9715-b73ba5dd4d77",
   "metadata": {},
   "outputs": [
    {
     "data": {
      "text/plain": [
       "'my name is poornima'"
      ]
     },
     "execution_count": 23,
     "metadata": {},
     "output_type": "execute_result"
    }
   ],
   "source": [
    "s2"
   ]
  },
  {
   "cell_type": "code",
   "execution_count": 24,
   "id": "b3fadf2c-6a7d-4d03-9016-ff80ed217dd0",
   "metadata": {},
   "outputs": [
    {
     "data": {
      "text/plain": [
       "'pwskills'"
      ]
     },
     "execution_count": 24,
     "metadata": {},
     "output_type": "execute_result"
    }
   ],
   "source": [
    "s1"
   ]
  },
  {
   "cell_type": "code",
   "execution_count": 25,
   "id": "66eb0764-5d81-47e7-86cd-1ae2a0c8005a",
   "metadata": {},
   "outputs": [
    {
     "data": {
      "text/plain": [
       "'Pwskills'"
      ]
     },
     "execution_count": 25,
     "metadata": {},
     "output_type": "execute_result"
    }
   ],
   "source": [
    "s1.capitalize()"
   ]
  },
  {
   "cell_type": "code",
   "execution_count": 26,
   "id": "a550c8a1-fc33-4b7c-a93c-153a28d67180",
   "metadata": {},
   "outputs": [
    {
     "data": {
      "text/plain": [
       "'my aame is pooraima'"
      ]
     },
     "execution_count": 26,
     "metadata": {},
     "output_type": "execute_result"
    }
   ],
   "source": [
    "s2.replace('n','a')"
   ]
  },
  {
   "cell_type": "code",
   "execution_count": 28,
   "id": "052582c9-0512-48cd-b31d-9f2b72840130",
   "metadata": {},
   "outputs": [
    {
     "data": {
      "text/plain": [
       "'ffffffffffffffffpwskillsffffffffffffffff'"
      ]
     },
     "execution_count": 28,
     "metadata": {},
     "output_type": "execute_result"
    }
   ],
   "source": [
    "s1.center(40,'f')"
   ]
  },
  {
   "cell_type": "code",
   "execution_count": 29,
   "id": "0492911a-511a-4611-b730-fe57c7f0e4f4",
   "metadata": {},
   "outputs": [
    {
     "data": {
      "text/plain": [
       "'pwskills'"
      ]
     },
     "execution_count": 29,
     "metadata": {},
     "output_type": "execute_result"
    }
   ],
   "source": [
    "s1.rstrip()\n"
   ]
  },
  {
   "cell_type": "code",
   "execution_count": 30,
   "id": "6597a632-d348-4fdf-a58c-e736728f95d4",
   "metadata": {},
   "outputs": [],
   "source": [
    "s5=\"      PWSKILLS      \""
   ]
  },
  {
   "cell_type": "code",
   "execution_count": 31,
   "id": "5292b0fe-1d97-4118-a597-530aa0612493",
   "metadata": {},
   "outputs": [
    {
     "data": {
      "text/plain": [
       "'PWSKILLS'"
      ]
     },
     "execution_count": 31,
     "metadata": {},
     "output_type": "execute_result"
    }
   ],
   "source": [
    "s5.strip()"
   ]
  },
  {
   "cell_type": "code",
   "execution_count": 32,
   "id": "83ab7594-d10e-41bf-b665-75d834952ac7",
   "metadata": {},
   "outputs": [
    {
     "data": {
      "text/plain": [
       "True"
      ]
     },
     "execution_count": 32,
     "metadata": {},
     "output_type": "execute_result"
    }
   ],
   "source": [
    "s1.isalnum()"
   ]
  },
  {
   "cell_type": "code",
   "execution_count": 33,
   "id": "c7b5fc68-f1a2-43f1-92d7-7e4ae5209016",
   "metadata": {},
   "outputs": [
    {
     "data": {
      "text/plain": [
       "True"
      ]
     },
     "execution_count": 33,
     "metadata": {},
     "output_type": "execute_result"
    }
   ],
   "source": [
    "s1.isalpha()"
   ]
  },
  {
   "cell_type": "code",
   "execution_count": 34,
   "id": "ee365d95-940b-4667-9883-86bf9ddcaf2a",
   "metadata": {},
   "outputs": [
    {
     "data": {
      "text/plain": [
       "False"
      ]
     },
     "execution_count": 34,
     "metadata": {},
     "output_type": "execute_result"
    }
   ],
   "source": [
    "s1.isnumeric()"
   ]
  },
  {
   "cell_type": "code",
   "execution_count": 35,
   "id": "2557e6af-824e-413e-8aa9-608a481e3ed3",
   "metadata": {},
   "outputs": [
    {
     "ename": "NameError",
     "evalue": "name 'l1' is not defined",
     "output_type": "error",
     "traceback": [
      "\u001b[0;31m---------------------------------------------------------------------------\u001b[0m",
      "\u001b[0;31mNameError\u001b[0m                                 Traceback (most recent call last)",
      "Cell \u001b[0;32mIn[35], line 1\u001b[0m\n\u001b[0;32m----> 1\u001b[0m \u001b[43ml1\u001b[49m\u001b[38;5;241m.\u001b[39mappend()\n",
      "\u001b[0;31mNameError\u001b[0m: name 'l1' is not defined"
     ]
    }
   ],
   "source": [
    "l1.append()"
   ]
  },
  {
   "cell_type": "code",
   "execution_count": 36,
   "id": "b0167eed-ea69-4015-a43b-944bf566c678",
   "metadata": {},
   "outputs": [],
   "source": [
    "l1=[1,2,3,4,5,45.6,'devi',6+5j,True]"
   ]
  },
  {
   "cell_type": "code",
   "execution_count": 37,
   "id": "17c38dbf-dd9c-4373-91e0-fc690de39d1c",
   "metadata": {},
   "outputs": [],
   "source": [
    "l1.append(\"poornima\")"
   ]
  },
  {
   "cell_type": "code",
   "execution_count": 38,
   "id": "d25d4f28-493d-4bab-9754-e77d5fbca03d",
   "metadata": {},
   "outputs": [
    {
     "data": {
      "text/plain": [
       "[1, 2, 3, 4, 5, 45.6, 'devi', (6+5j), True, 'poornima']"
      ]
     },
     "execution_count": 38,
     "metadata": {},
     "output_type": "execute_result"
    }
   ],
   "source": [
    "l1"
   ]
  },
  {
   "cell_type": "code",
   "execution_count": 39,
   "id": "ee8b50b2-15e2-4d89-a895-71cda5fa8c7f",
   "metadata": {},
   "outputs": [],
   "source": [
    "l1.insert(3,'pwskills')"
   ]
  },
  {
   "cell_type": "code",
   "execution_count": 40,
   "id": "0a692337-09cc-4869-aaa9-ec055cbeb977",
   "metadata": {},
   "outputs": [
    {
     "data": {
      "text/plain": [
       "[1, 2, 3, 'pwskills', 4, 5, 45.6, 'devi', (6+5j), True, 'poornima']"
      ]
     },
     "execution_count": 40,
     "metadata": {},
     "output_type": "execute_result"
    }
   ],
   "source": [
    "l1"
   ]
  },
  {
   "cell_type": "code",
   "execution_count": 42,
   "id": "5a04b9a9-a50c-4959-bb4a-4efe6b485bb8",
   "metadata": {},
   "outputs": [],
   "source": [
    "l1.extend(\"sudah\")"
   ]
  },
  {
   "cell_type": "markdown",
   "id": "8d079095-8a15-4d0f-8e3a-e89662a72b70",
   "metadata": {},
   "source": [
    "# "
   ]
  },
  {
   "cell_type": "code",
   "execution_count": 43,
   "id": "163e6646-c696-4535-b429-4d0c279fbfcd",
   "metadata": {},
   "outputs": [
    {
     "data": {
      "text/plain": [
       "[1,\n",
       " 2,\n",
       " 3,\n",
       " 'pwskills',\n",
       " 4,\n",
       " 5,\n",
       " 45.6,\n",
       " 'devi',\n",
       " (6+5j),\n",
       " True,\n",
       " 'poornima',\n",
       " 's',\n",
       " 'u',\n",
       " 'd',\n",
       " 'a',\n",
       " 'h']"
      ]
     },
     "execution_count": 43,
     "metadata": {},
     "output_type": "execute_result"
    }
   ],
   "source": [
    "l1"
   ]
  },
  {
   "cell_type": "code",
   "execution_count": 45,
   "id": "60cc39b5-2c9d-483c-8967-85701aa72c8b",
   "metadata": {},
   "outputs": [
    {
     "data": {
      "text/plain": [
       "'h'"
      ]
     },
     "execution_count": 45,
     "metadata": {},
     "output_type": "execute_result"
    }
   ],
   "source": [
    "l1.pop()"
   ]
  },
  {
   "cell_type": "code",
   "execution_count": 46,
   "id": "89d4d62d-ac9a-4339-9bb9-d662cf3c8582",
   "metadata": {},
   "outputs": [
    {
     "data": {
      "text/plain": [
       "2"
      ]
     },
     "execution_count": 46,
     "metadata": {},
     "output_type": "execute_result"
    }
   ],
   "source": [
    "l1.pop(1)"
   ]
  },
  {
   "cell_type": "code",
   "execution_count": 48,
   "id": "ed31c205-99cc-489f-b4ce-beb50856d7e6",
   "metadata": {},
   "outputs": [],
   "source": [
    "del l1"
   ]
  },
  {
   "cell_type": "markdown",
   "id": "d26ce3e7-7402-4612-975a-88a0e0dac3f0",
   "metadata": {},
   "source": [
    "l1"
   ]
  },
  {
   "cell_type": "code",
   "execution_count": 49,
   "id": "50bcff99-4fa3-4129-b41e-0087bc8d3912",
   "metadata": {},
   "outputs": [],
   "source": [
    "l1=[1,2,3,4,5,45.6,'devi',6+5j,True]"
   ]
  },
  {
   "cell_type": "code",
   "execution_count": 50,
   "id": "0fc385f7-7869-4ef2-a85c-dc08b6869ea4",
   "metadata": {},
   "outputs": [],
   "source": [
    "l1.clear()"
   ]
  },
  {
   "cell_type": "code",
   "execution_count": 51,
   "id": "bf45d31f-d07c-444f-a80d-5e0871e7b7ae",
   "metadata": {},
   "outputs": [
    {
     "data": {
      "text/plain": [
       "[]"
      ]
     },
     "execution_count": 51,
     "metadata": {},
     "output_type": "execute_result"
    }
   ],
   "source": [
    "l1"
   ]
  },
  {
   "cell_type": "code",
   "execution_count": 54,
   "id": "0a0ac3cc-fdb4-442c-ad62-ee1281f2c854",
   "metadata": {},
   "outputs": [
    {
     "data": {
      "text/plain": [
       "0"
      ]
     },
     "execution_count": 54,
     "metadata": {},
     "output_type": "execute_result"
    }
   ],
   "source": [
    "l1.count('i')"
   ]
  },
  {
   "cell_type": "code",
   "execution_count": 55,
   "id": "aaa26677-be36-404f-b710-fb24f0ebbe4d",
   "metadata": {},
   "outputs": [],
   "source": [
    "l1=[1,2,3,4,5,45.6,'devi',6+5j,True]\n"
   ]
  },
  {
   "cell_type": "code",
   "execution_count": 56,
   "id": "cc087e5e-1dbb-4cff-8d7b-fb066b66b438",
   "metadata": {},
   "outputs": [],
   "source": [
    "l1.reverse()"
   ]
  },
  {
   "cell_type": "code",
   "execution_count": 57,
   "id": "a7ad351b-7e81-41b5-ba6d-353a735cfc66",
   "metadata": {},
   "outputs": [
    {
     "data": {
      "text/plain": [
       "[True, (6+5j), 'devi', 45.6, 5, 4, 3, 2, 1]"
      ]
     },
     "execution_count": 57,
     "metadata": {},
     "output_type": "execute_result"
    }
   ],
   "source": [
    "l1"
   ]
  },
  {
   "cell_type": "code",
   "execution_count": 61,
   "id": "c04cf66e-9cb3-4a87-8073-ce6753b445ab",
   "metadata": {},
   "outputs": [],
   "source": [
    "l3=[3,5,6,34,56,54,7,65,454]"
   ]
  },
  {
   "cell_type": "code",
   "execution_count": 62,
   "id": "be548609-7ffe-4c31-b477-dc35e62ab9cf",
   "metadata": {},
   "outputs": [],
   "source": [
    "l3.sort()"
   ]
  },
  {
   "cell_type": "code",
   "execution_count": 63,
   "id": "72ea967b-859c-4077-8d0a-054f8b5b5f1d",
   "metadata": {},
   "outputs": [
    {
     "data": {
      "text/plain": [
       "[3, 5, 6, 7, 34, 54, 56, 65, 454]"
      ]
     },
     "execution_count": 63,
     "metadata": {},
     "output_type": "execute_result"
    }
   ],
   "source": [
    "l3"
   ]
  },
  {
   "cell_type": "code",
   "execution_count": null,
   "id": "02fffb61-3201-40b6-b914-4a7a8a5e2112",
   "metadata": {},
   "outputs": [],
   "source": []
  }
 ],
 "metadata": {
  "kernelspec": {
   "display_name": "Python 3 (ipykernel)",
   "language": "python",
   "name": "python3"
  },
  "language_info": {
   "codemirror_mode": {
    "name": "ipython",
    "version": 3
   },
   "file_extension": ".py",
   "mimetype": "text/x-python",
   "name": "python",
   "nbconvert_exporter": "python",
   "pygments_lexer": "ipython3",
   "version": "3.10.8"
  }
 },
 "nbformat": 4,
 "nbformat_minor": 5
}
